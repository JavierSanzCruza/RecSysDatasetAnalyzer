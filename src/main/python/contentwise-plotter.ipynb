{
 "cells": [
  {
   "cell_type": "code",
   "execution_count": 1,
   "metadata": {},
   "outputs": [],
   "source": [
    "%matplotlib inline\n",
    "import matplotlib.pyplot as plt\n",
    "import matplotlib.ticker as ticker\n",
    "import numpy as np"
   ]
  },
  {
   "cell_type": "markdown",
   "metadata": {},
   "source": [
    "# Degree distributions"
   ]
  },
  {
   "cell_type": "code",
   "execution_count": 2,
   "metadata": {},
   "outputs": [],
   "source": [
    "file = \"C:\\\\Users\\\\Javier\\\\Downloads\\\\ContentWiseImpressions\\\\data\\\\ContentWiseImpressions\\\\CW10M-CSV\\\\analysis-python\\\\pop-user-series.txt\"\n",
    "f = open(file)\n",
    "x = []\n",
    "y = []\n",
    "\n",
    "header = True\n",
    "for line in f:\n",
    "    if header:\n",
    "        header = False\n",
    "    else:\n",
    "        line.replace('\\n','')\n",
    "        data = line.split(\"\\t\")\n",
    "        x.append(int(data[0]))\n",
    "        y.append(int(data[1]))\n",
    "        "
   ]
  },
  {
   "cell_type": "code",
   "execution_count": 3,
   "metadata": {},
   "outputs": [
    {
     "data": {
      "image/png": "[encoded data removed]",
      "text/plain": [
       "<Figure size 432x288 with 1 Axes>"
      ]
     },
     "metadata": {
      "needs_background": "light"
     },
     "output_type": "display_data"
    }
   ],
   "source": [
    "plt.plot(x,y,'o', color='blue', markersize=4)\n",
    "plt.xlabel('Series', fontsize=22, family='Linux Libertine')\n",
    "plt.xscale('log')\n",
    "plt.xticks(fontsize=20, family='Linux Libertine')\n",
    "plt.ylabel('Num. ratings', fontsize=22, family='Linux Libertine')\n",
    "plt.yscale('log')\n",
    "plt.yticks(fontsize=20, family='Linux Libertine')\n",
    "plt.title('Series distribution', fontsize=24, family='Linux Libertine')\n",
    "\n",
    "plt.savefig(\"C:\\\\Users\\\\Javier\\\\Downloads\\\\ContentWiseImpressions\\\\data\\\\ContentWiseImpressions\\\\CW10M-CSV\\\\analysis-python\\\\pop-user-series.pdf\")\n",
    "\n"
   ]
  },
  {
   "cell_type": "code",
   "execution_count": 4,
   "metadata": {},
   "outputs": [],
   "source": [
    "file = \"C:\\\\Users\\\\Javier\\\\Downloads\\\\ContentWiseImpressions\\\\data\\\\ContentWiseImpressions\\\\CW10M-CSV\\\\analysis-python\\\\pop-user-series-impr.txt\"\n",
    "f = open(file)\n",
    "x = []\n",
    "y = []\n",
    "\n",
    "header = True\n",
    "for line in f:\n",
    "    if header:\n",
    "        header = False\n",
    "    else:\n",
    "        line.replace('\\n','')\n",
    "        data = line.split(\"\\t\")\n",
    "        x.append(int(data[0]))\n",
    "        y.append(int(data[1]))\n",
    "        "
   ]
  },
  {
   "cell_type": "code",
   "execution_count": 5,
   "metadata": {
    "scrolled": true
   },
   "outputs": [
    {
     "data": {
      "image/png": "[encoded data removed]",
      "text/plain": [
       "<Figure size 432x288 with 1 Axes>"
      ]
     },
     "metadata": {
      "needs_background": "light"
     },
     "output_type": "display_data"
    }
   ],
   "source": [
    "plt.plot(x,y,'o', color='blue', markersize=4)\n",
    "plt.xlabel('Series', fontsize=18, family='Linux Libertine')\n",
    "plt.xscale('log')\n",
    "plt.xticks(fontsize=16, family='Linux Libertine')\n",
    "plt.ylabel('Num. ratings', fontsize=18, family='Linux Libertine')\n",
    "plt.yscale('log')\n",
    "plt.yticks(fontsize=16, family='Linux Libertine')\n",
    "plt.title('Series distribution (impressions)', fontsize=22, family='Linux Libertine')\n",
    "\n",
    "plt.savefig(\"C:\\\\Users\\\\Javier\\\\Downloads\\\\ContentWiseImpressions\\\\data\\\\ContentWiseImpressions\\\\CW10M-CSV\\\\analysis-python\\\\pop-user-series-impr.pdf\")\n"
   ]
  },
  {
   "cell_type": "markdown",
   "metadata": {},
   "source": [
    "# Time series"
   ]
  },
  {
   "cell_type": "code",
   "execution_count": 6,
   "metadata": {},
   "outputs": [],
   "source": [
    "file = \"C:\\\\Users\\\\Javier\\\\Downloads\\\\ContentWiseImpressions\\\\data\\\\ContentWiseImpressions\\\\CW10M-CSV\\\\analysis-python\\\\time-series.txt\"\n",
    "f = open(file)\n",
    "times_series = []\n",
    "series_series = []\n",
    "\n",
    "header = True\n",
    "for line in f:\n",
    "    if header:\n",
    "        header = False\n",
    "    else:\n",
    "        line.replace('\\n','')\n",
    "        data = line.split(\"\\t\")\n",
    "        times_series.append(int(data[0]))\n",
    "        series_series.append(int(data[1]))"
   ]
  },
  {
   "cell_type": "code",
   "execution_count": 7,
   "metadata": {},
   "outputs": [],
   "source": [
    "file = \"C:\\\\Users\\\\Javier\\\\Downloads\\\\ContentWiseImpressions\\\\data\\\\ContentWiseImpressions\\\\CW10M-CSV\\\\analysis-python\\\\time-series-impressions.txt\"\n",
    "f = open(file)\n",
    "times_impr = []\n",
    "series_impr = []\n",
    "\n",
    "header = True\n",
    "for line in f:\n",
    "    if header:\n",
    "        header = False\n",
    "    else:\n",
    "        line.replace('\\n','')\n",
    "        data = line.split(\"\\t\")\n",
    "        times_impr.append(int(data[0]))\n",
    "        series_impr.append(int(data[1]))"
   ]
  },
  {
   "cell_type": "code",
   "execution_count": 8,
   "metadata": {},
   "outputs": [],
   "source": [
    "file = \"C:\\\\Users\\\\Javier\\\\Downloads\\\\ContentWiseImpressions\\\\data\\\\ContentWiseImpressions\\\\CW10M-CSV\\\\analysis-python\\\\time-users.txt\"\n",
    "f = open(file)\n",
    "times_users = []\n",
    "series_users = []\n",
    "\n",
    "header = True\n",
    "for line in f:\n",
    "    if header:\n",
    "        header = False\n",
    "    else:\n",
    "        line.replace('\\n','')\n",
    "        data = line.split(\"\\t\")\n",
    "        times_users.append(int(data[0]))\n",
    "        series_users.append(int(data[1]))"
   ]
  },
  {
   "cell_type": "code",
   "execution_count": null,
   "metadata": {},
   "outputs": [],
   "source": [
    "fig, (axseries,aximpr,axuser) = plt.subplots(3,1, figsize = (10,30))\n",
    "\n",
    "plt.setp(axseries.get_xticklabels(),fontsize=20, family='Linux Libertine' )\n",
    "plt.setp(aximpr.get_xticklabels(),fontsize=20, family='Linux Libertine' )\n",
    "plt.setp(axuser.get_xticklabels(),fontsize=20, family='Linux Libertine' )\n",
    "plt.setp(axseries.get_yticklabels(),fontsize=20, family='Linux Libertine' )\n",
    "plt.setp(aximpr.get_yticklabels(),fontsize=20, family='Linux Libertine' )\n",
    "plt.setp(axuser.get_yticklabels(),fontsize=20, family='Linux Libertine' )\n",
    "\n",
    "axseries.plot(series_series,times_series,'o', color='black', markersize=1)\n",
    "axseries.set_xlabel('Timestamp', fontsize=24, family='Linux Libertine')\n",
    "axseries.set_ylabel('Series', fontsize=24, family='Linux Libertine')\n",
    "axseries.set_title('Time distribution (series)', fontsize=32, family='Linux Libertine')\n",
    "axseries.get_yaxis().set_major_formatter(\n",
    "ticker.FuncFormatter(lambda x, p: format(int(x), ',')))\n",
    "\n",
    "aximpr.plot(series_impr,times_impr, 'o', color='black', markersize=1)\n",
    "aximpr.set_xlabel('Timestamp', fontsize=24, family='Linux Libertine')\n",
    "aximpr.set_ylabel('Series', fontsize=24, family='Linux Libertine')\n",
    "aximpr.set_title('Time distribution (series with impressions)', fontsize=32, family='Linux Libertine')\n",
    "aximpr.get_yaxis().set_major_formatter(\n",
    "ticker.FuncFormatter(lambda x, p: format(int(x), ',')))\n",
    "\n",
    "axuser.plot(series_users,times_users, 'o', color='black', markersize=1)\n",
    "axuser.set_xlabel('Timestamp', fontsize=24, family='Linux Libertine')\n",
    "axuser.set_ylabel('Series', fontsize=24, family='Linux Libertine')\n",
    "axuser.set_title('Time distribution (users)', fontsize=32, family='Linux Libertine')\n",
    "axuser.get_yaxis().set_major_formatter(\n",
    "ticker.FuncFormatter(lambda x, p: format(int(x), ',')))\n",
    "\n",
    "plt.savefig(\"C:\\\\Users\\\\Javier\\\\Downloads\\\\ContentWiseImpressions\\\\data\\\\ContentWiseImpressions\\\\CW10M-CSV\\\\analysis-python\\\\time-series.png\", dpi=300)\n"
   ]
  },
  {
   "cell_type": "code",
   "execution_count": null,
   "metadata": {},
   "outputs": [],
   "source": [
    "file = \"C:\\\\Users\\\\Javier\\\\Downloads\\\\ContentWiseImpressions\\\\data\\\\ContentWiseImpressions\\\\CW10M-CSV\\\\analysis-python\\\\time-series-inv.txt\"\n",
    "f = open(file)\n",
    "times_series = []\n",
    "series_series = []\n",
    "\n",
    "header = True\n",
    "for line in f:\n",
    "    if header:\n",
    "        header = False\n",
    "    else:\n",
    "        line.replace('\\n','')\n",
    "        data = line.split(\"\\t\")\n",
    "        times_series.append(int(data[0]))\n",
    "        series_series.append(int(data[1]))\n",
    "        \n",
    "        \n",
    "file = \"C:\\\\Users\\\\Javier\\\\Downloads\\\\ContentWiseImpressions\\\\data\\\\ContentWiseImpressions\\\\CW10M-CSV\\\\analysis-python\\\\time-series-impressions-inv.txt\"\n",
    "f = open(file)\n",
    "times_impr = []\n",
    "series_impr = []\n",
    "\n",
    "header = True\n",
    "for line in f:\n",
    "    if header:\n",
    "        header = False\n",
    "    else:\n",
    "        line.replace('\\n','')\n",
    "        data = line.split(\"\\t\")\n",
    "        times_impr.append(int(data[0]))\n",
    "        series_impr.append(int(data[1]))\n",
    "        \n",
    "file = \"C:\\\\Users\\\\Javier\\\\Downloads\\\\ContentWiseImpressions\\\\data\\\\ContentWiseImpressions\\\\CW10M-CSV\\\\analysis\\\\time-users-inv.txt\"\n",
    "f = open(file)\n",
    "times_users = []\n",
    "series_users = []\n",
    "\n",
    "header = True\n",
    "for line in f:\n",
    "    if header:\n",
    "        header = False\n",
    "    else:\n",
    "        line.replace('\\n','')\n",
    "        data = line.split(\"\\t\")\n",
    "        times_users.append(int(data[0]))\n",
    "        series_users.append(int(data[1]))        \n"
   ]
  },
  {
   "cell_type": "code",
   "execution_count": null,
   "metadata": {},
   "outputs": [],
   "source": [
    "fig, (axseries,aximpr,axuser) = plt.subplots(3,1, figsize = (10,30))\n",
    "\n",
    "plt.setp(axseries.get_xticklabels(),fontsize=20, family='Linux Libertine' )\n",
    "plt.setp(aximpr.get_xticklabels(),fontsize=20, family='Linux Libertine' )\n",
    "plt.setp(axuser.get_xticklabels(),fontsize=20, family='Linux Libertine' )\n",
    "plt.setp(axseries.get_yticklabels(),fontsize=20, family='Linux Libertine' )\n",
    "plt.setp(aximpr.get_yticklabels(),fontsize=20, family='Linux Libertine' )\n",
    "plt.setp(axuser.get_yticklabels(),fontsize=20, family='Linux Libertine' )\n",
    "\n",
    "axseries.plot(series_series,times_series,'o', color='black', markersize=1)\n",
    "axseries.set_xlabel('Timestamp', fontsize=24, family='Linux Libertine')\n",
    "axseries.set_ylabel('Series', fontsize=24, family='Linux Libertine')\n",
    "axseries.set_title('Time distribution (series)', fontsize=32, family='Linux Libertine')\n",
    "axseries.get_yaxis().set_major_formatter(\n",
    "ticker.FuncFormatter(lambda x, p: format(int(x), ',')))\n",
    "\n",
    "aximpr.plot(series_impr,times_impr, 'o', color='black', markersize=1)\n",
    "aximpr.set_xlabel('Timestamp', fontsize=24, family='Linux Libertine')\n",
    "aximpr.set_ylabel('Series', fontsize=24, family='Linux Libertine')\n",
    "aximpr.set_title('Time distribution (series with impressions)', fontsize=32, family='Linux Libertine')\n",
    "aximpr.get_yaxis().set_major_formatter(\n",
    "ticker.FuncFormatter(lambda x, p: format(int(x), ',')))\n",
    "\n",
    "axuser.plot(series_users,times_users, 'o', color='black', markersize=1)\n",
    "axuser.set_xlabel('Timestamp', fontsize=24, family='Linux Libertine')\n",
    "axuser.set_ylabel('Series', fontsize=24, family='Linux Libertine')\n",
    "axuser.set_title('Time distribution (users)', fontsize=32, family='Linux Libertine')\n",
    "axuser.get_yaxis().set_major_formatter(\n",
    "ticker.FuncFormatter(lambda x, p: format(int(x), ',')))\n",
    "\n",
    "plt.savefig(\"C:\\\\Users\\\\Javier\\\\Downloads\\\\ContentWiseImpressions\\\\data\\\\ContentWiseImpressions\\\\CW10M-CSV\\\\analysis-python\\\\time-series-inv.png\", dpi=300)\n"
   ]
  },
  {
   "cell_type": "markdown",
   "metadata": {
    "pycharm": {
     "name": "#%% md\n"
    }
   },
   "source": [
    "## Impressions"
   ]
  },
  {
   "cell_type": "code",
   "execution_count": null,
   "outputs": [],
   "source": [
    "file = \"C:\\\\Users\\\\Javier\\\\Downloads\\\\ContentWiseImpressions\\\\data\\\\ContentWiseImpressions\\\\CW10M-CSV\\\\analysis-python\\\\impr-series.txt\"\n",
    "f = open(file)\n",
    "x = []\n",
    "y = []\n",
    "\n",
    "header = True\n",
    "for line in f:\n",
    "    if header:\n",
    "        header = False\n",
    "    else:\n",
    "        line.replace('\\n','')\n",
    "        data = line.split(\"\\t\")\n",
    "        x.append(int(data[0]))\n",
    "        y.append(int(data[1]))\n",
    "        "
   ],
   "metadata": {
    "collapsed": false,
    "pycharm": {
     "name": "#%%\n"
    }
   }
  },
  {
   "cell_type": "code",
   "execution_count": null,
   "outputs": [],
   "source": [
    "plt.plot(x,y,'o', color='blue', markersize=4)\n",
    "plt.xlabel('Series', fontsize=22, family='Linux Libertine')\n",
    "plt.xscale('log')\n",
    "plt.xticks(fontsize=20, family='Linux Libertine')\n",
    "plt.ylabel('Num. impressions', fontsize=22, family='Linux Libertine')\n",
    "plt.yscale('log')\n",
    "plt.yticks(fontsize=20, family='Linux Libertine')\n",
    "plt.title('Impression distribution (series)', fontsize=24, family='Linux Libertine')\n",
    "\n",
    "plt.savefig(\"C:\\\\Users\\\\Javier\\\\Downloads\\\\ContentWiseImpressions\\\\data\\\\ContentWiseImpressions\\\\CW10M-CSV\\\\analysis-python\\\\impr-distrib-series.pdf\")\n"
   ],
   "metadata": {
    "collapsed": false,
    "pycharm": {
     "name": "#%%\n"
    }
   }
  },
  {
   "cell_type": "code",
   "execution_count": null,
   "outputs": [],
   "source": [
    "file = \"C:\\\\Users\\\\Javier\\\\Downloads\\\\ContentWiseImpressions\\\\data\\\\ContentWiseImpressions\\\\CW10M-CSV\\\\analysis-python\\\\impr-users.txt\"\n",
    "f = open(file)\n",
    "x = []\n",
    "y = []\n",
    "\n",
    "header = True\n",
    "for line in f:\n",
    "    if header:\n",
    "        header = False\n",
    "    else:\n",
    "        line.replace('\\n','')\n",
    "        data = line.split(\"\\t\")\n",
    "        x.append(int(data[0]))\n",
    "        y.append(int(data[1]))\n",
    "        "
   ],
   "metadata": {
    "collapsed": false,
    "pycharm": {
     "name": "#%%\n"
    }
   }
  },
  {
   "cell_type": "code",
   "execution_count": null,
   "outputs": [],
   "source": [
    "plt.plot(x,y,'o', color='blue', markersize=4)\n",
    "plt.xlabel('Series', fontsize=22, family='Linux Libertine')\n",
    "plt.xscale('log')\n",
    "plt.xticks(fontsize=20, family='Linux Libertine')\n",
    "plt.ylabel('Num. impressions', fontsize=22, family='Linux Libertine')\n",
    "plt.yscale('log')\n",
    "plt.yticks(fontsize=20, family='Linux Libertine')\n",
    "plt.title('Impression distribution (users)', fontsize=24, family='Linux Libertine')\n",
    "\n",
    "plt.savefig(\"C:\\\\Users\\\\Javier\\\\Downloads\\\\ContentWiseImpressions\\\\data\\\\ContentWiseImpressions\\\\CW10M-CSV\\\\analysis-python\\\\impr-distrib-users.pdf\")\n"
   ],
   "metadata": {
    "collapsed": false,
    "pycharm": {
     "name": "#%%\n"
    }
   }
  },
  {
   "cell_type": "code",
   "execution_count": null,
   "metadata": {},
   "outputs": [],
   "source": [
    "plt.plot(x,y,'o', color='blue', markersize=4)\n",
    "plt.xlabel('Series', fontsize=22, family='Linux Libertine')\n",
    "plt.xscale('log')\n",
    "plt.xticks(fontsize=20, family='Linux Libertine')\n",
    "plt.ylabel('Num. impressions', fontsize=22, family='Linux Libertine')\n",
    "plt.yscale('log')\n",
    "plt.yticks(fontsize=20, family='Linux Libertine')\n",
    "plt.title('Impression distribution (users)', fontsize=24, family='Linux Libertine')\n",
    "\n",
    "plt.savefig(\"C:\\\\Users\\\\Javier\\\\Downloads\\\\ContentWiseImpressions\\\\data\\\\ContentWiseImpressions\\\\CW10M-CSV\\\\analysis-python\\\\impr-distrib-users.pdf\")\n"
   ]
  },
  {
   "cell_type": "code",
   "execution_count": null,
   "metadata": {},
   "outputs": [],
   "source": [
    "plt.plot(x,y,'o', color='blue', markersize=4)\n",
    "plt.xlabel('Series', fontsize=22, family='Linux Libertine')\n",
    "plt.xscale('log')\n",
    "plt.xticks(fontsize=20, family='Linux Libertine')\n",
    "plt.ylabel('Num. impressions', fontsize=22, family='Linux Libertine')\n",
    "plt.yscale('log')\n",
    "plt.yticks(fontsize=20, family='Linux Libertine')\n",
    "plt.title('Impression distribution (series)', fontsize=24, family='Linux Libertine')\n",
    "\n",
    "plt.savefig(\"C:\\\\Users\\\\Javier\\\\Downloads\\\\ContentWiseImpressions\\\\data\\\\ContentWiseImpressions\\\\CW10M-CSV\\\\analysis-python\\\\impr-distrib-series.pdf\")\n"
   ]
  },
  {
   "cell_type": "code",
   "execution_count": null,
   "metadata": {},
   "outputs": [],
   "source": [
    "file = \"C:\\\\Users\\\\Javier\\\\Downloads\\\\ContentWiseImpressions\\\\data\\\\ContentWiseImpressions\\\\CW10M-CSV\\\\analysis-python\\\\impr-users.txt\"\n",
    "f = open(file)\n",
    "x = []\n",
    "y = []\n",
    "\n",
    "header = True\n",
    "for line in f:\n",
    "    if header:\n",
    "        header = False\n",
    "    else:\n",
    "        line.replace('\\n','')\n",
    "        data = line.split(\"\\t\")\n",
    "        x.append(int(data[0]))\n",
    "        y.append(int(data[1]))\n",
    "        "
   ]
  },
  {
   "cell_type": "code",
   "execution_count": null,
   "metadata": {},
   "outputs": [],
   "source": [
    "plt.plot(x,y,'o', color='blue', markersize=4)\n",
    "plt.xlabel('Series', fontsize=22, family='Linux Libertine')\n",
    "plt.xscale('log')\n",
    "plt.xticks(fontsize=20, family='Linux Libertine')\n",
    "plt.ylabel('Num. impressions', fontsize=22, family='Linux Libertine')\n",
    "plt.yscale('log')\n",
    "plt.yticks(fontsize=20, family='Linux Libertine')\n",
    "plt.title('Impression distribution (users)', fontsize=24, family='Linux Libertine')\n",
    "\n",
    "plt.savefig(\"C:\\\\Users\\\\Javier\\\\Downloads\\\\ContentWiseImpressions\\\\data\\\\ContentWiseImpressions\\\\CW10M-CSV\\\\analysis-python\\\\impr-distrib-users.pdf\")\n"
   ]
  }
 ],
 "metadata": {
  "kernelspec": {
   "display_name": "Python 3",
   "language": "python",
   "name": "python3"
  },
  "language_info": {
   "codemirror_mode": {
    "name": "ipython",
    "version": 3
   },
   "file_extension": ".py",
   "mimetype": "text/x-python",
   "name": "python",
   "nbconvert_exporter": "python",
   "pygments_lexer": "ipython3",
   "version": "3.7.10"
  }
 },
 "nbformat": 4,
 "nbformat_minor": 2
}